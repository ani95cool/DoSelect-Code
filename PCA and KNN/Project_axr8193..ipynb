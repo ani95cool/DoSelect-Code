{
 "cells": [
  {
   "cell_type": "code",
   "execution_count": 1,
   "metadata": {},
   "outputs": [],
   "source": [
    "import pandas as pd\n",
    "import numpy as np\n",
    "from sklearn.model_selection import train_test_split\n",
    "from collections import Counter"
   ]
  },
  {
   "cell_type": "code",
   "execution_count": 2,
   "metadata": {},
   "outputs": [],
   "source": [
    "df = pd.read_csv('heart.csv')"
   ]
  },
  {
   "cell_type": "code",
   "execution_count": 3,
   "metadata": {},
   "outputs": [
    {
     "data": {
      "text/plain": [
       "'\\nage_val = df.age\\nsex_val = df.sex\\ncp_val = df.cp\\ntrestbps_val = df.trestbps\\nchol_val = df.chol\\nfbs_val = df.fbs\\nrestecg_val = df.restecg\\nthalach_val = df.thalach\\nexang_val = df.exang\\noldpeak_val = df.oldpeak\\nslope_val = df.slope\\nca_val = df.ca\\nthal_val = df.thal\\ntarget_val = df.target\\n'"
      ]
     },
     "execution_count": 3,
     "metadata": {},
     "output_type": "execute_result"
    }
   ],
   "source": [
    "'''\n",
    "age_val = df.age\n",
    "sex_val = df.sex\n",
    "cp_val = df.cp\n",
    "trestbps_val = df.trestbps\n",
    "chol_val = df.chol\n",
    "fbs_val = df.fbs\n",
    "restecg_val = df.restecg\n",
    "thalach_val = df.thalach\n",
    "exang_val = df.exang\n",
    "oldpeak_val = df.oldpeak\n",
    "slope_val = df.slope\n",
    "ca_val = df.ca\n",
    "thal_val = df.thal\n",
    "target_val = df.target\n",
    "'''"
   ]
  },
  {
   "cell_type": "code",
   "execution_count": 4,
   "metadata": {},
   "outputs": [
    {
     "data": {
      "text/plain": [
       "'\\nage_val = s.age\\nsex_val = s.sex\\ncp_val = s.cp\\ntrestbps_val = s.trestbps\\nchol_val = s.chol\\nfbs_val = s.fbs\\nrestecg_val = s.restecg\\nthalach_val = s.thalach\\nexang_val = s.exang\\noldpeak_val = s.oldpeak\\nslope_val = s.slope\\nca_val = s.ca\\nthal_val = s.thal\\ntarget_val = s.target\\n'"
      ]
     },
     "execution_count": 4,
     "metadata": {},
     "output_type": "execute_result"
    }
   ],
   "source": [
    "'''\n",
    "age_val = s.age\n",
    "sex_val = s.sex\n",
    "cp_val = s.cp\n",
    "trestbps_val = s.trestbps\n",
    "chol_val = s.chol\n",
    "fbs_val = s.fbs\n",
    "restecg_val = s.restecg\n",
    "thalach_val = s.thalach\n",
    "exang_val = s.exang\n",
    "oldpeak_val = s.oldpeak\n",
    "slope_val = s.slope\n",
    "ca_val = s.ca\n",
    "thal_val = s.thal\n",
    "target_val = s.target\n",
    "'''"
   ]
  },
  {
   "cell_type": "code",
   "execution_count": 5,
   "metadata": {},
   "outputs": [],
   "source": [
    "t = df.copy()\n",
    "col_names = []\n",
    "s = t.iloc[:, : -1]\n",
    "features = t['target']\n",
    "f = list(features)\n",
    "new_features = []\n",
    "for le in range(len(features)):\n",
    "    if(features[le] == 1):\n",
    "        new_features.append('Y')\n",
    "    elif(features[le] == 0):\n",
    "        new_features.append('N')\n",
    "    else:\n",
    "        print(\"No such label available\")\n",
    "t.loc[:, 'target'].replace(f, new_features, inplace=True)\n",
    "for keys in t.columns:\n",
    "    col_names.append(keys) \n",
    "#col_names"
   ]
  },
  {
   "cell_type": "code",
   "execution_count": 6,
   "metadata": {},
   "outputs": [],
   "source": [
    "u = []\n",
    "mean_vector = np.mean(s, axis=0)\n",
    "dic = dict(mean_vector)\n",
    "k = dic.values()\n",
    "lis = [vals for vals in k]\n",
    "#lis\n",
    "my_list = np.array(lis)\n",
    "#len(s)"
   ]
  },
  {
   "cell_type": "code",
   "execution_count": 7,
   "metadata": {},
   "outputs": [
    {
     "name": "stdout",
     "output_type": "stream",
     "text": [
      "[]\n"
     ]
    }
   ],
   "source": [
    "a = []\n",
    "l = []\n",
    "#s = df.copy()\n",
    "dic = {}\n",
    "#my_list = np.reshape(my_list, (my_list.shape[0], 1))\n",
    "print(l)\n",
    "m = s.shape[1]\n",
    "#print(np.cov(s.T))\n",
    "val = []\n",
    "#one_less = num - 1\n",
    "#print(np.cov(s.T))\n",
    "#print(s)    \n",
    "for i,j in s.iterrows():\n",
    "    val.append([j])\n",
    "a.append(val)\n",
    "#cov_mat = (nary - my_list).T.dot((nary - my_list)) / (nary.shape[0]-1)\n",
    "cov_mat = np.cov(s.T)\n",
    "#nary = np.array(a)\n",
    "#cov_mat"
   ]
  },
  {
   "cell_type": "code",
   "execution_count": 8,
   "metadata": {},
   "outputs": [],
   "source": [
    "new_li = [cols for cols in s.columns]\n",
    "new_df = pd.DataFrame(cov_mat, columns=new_li)"
   ]
  },
  {
   "cell_type": "code",
   "execution_count": 9,
   "metadata": {},
   "outputs": [],
   "source": [
    "#new_df"
   ]
  },
  {
   "cell_type": "code",
   "execution_count": 10,
   "metadata": {},
   "outputs": [],
   "source": [
    "eig_vals, eig_vecs = np.linalg.eig(np.array(cov_mat))"
   ]
  },
  {
   "cell_type": "code",
   "execution_count": 11,
   "metadata": {},
   "outputs": [],
   "source": [
    "eig_pairs = [(np.abs(eig_vals[i]), eig_vecs[:,i]) for i in range(len(eig_vals))]"
   ]
  },
  {
   "cell_type": "code",
   "execution_count": 12,
   "metadata": {},
   "outputs": [],
   "source": [
    "eig_pairs.sort(key=lambda x: x[0], reverse=True)"
   ]
  },
  {
   "cell_type": "code",
   "execution_count": 13,
   "metadata": {},
   "outputs": [],
   "source": [
    "tot = sum(eig_vals)\n",
    "var_exp = [(i / tot)*100 for i in sorted(eig_vals, reverse=True)]\n",
    "cum_var_exp = np.cumsum(var_exp)\n",
    "cum_var_exp.shape\n",
    "new_var = list(cum_var_exp)"
   ]
  },
  {
   "cell_type": "code",
   "execution_count": 14,
   "metadata": {},
   "outputs": [],
   "source": [
    "num_vectors = 0.0\n",
    "exp_var_percentage = 0.97\n",
    "pctage = float(exp_var_percentage * 100)"
   ]
  },
  {
   "cell_type": "code",
   "execution_count": 15,
   "metadata": {},
   "outputs": [
    {
     "name": "stdout",
     "output_type": "stream",
     "text": [
      "13\n",
      "[74.75641991893889, 89.79344199759483, 98.25312669267828, 99.87472272827793, 99.91313129403002, 99.94125471695945, 99.9641540552283, 99.97413733937351, 99.98185877054351, 99.98773279349194, 99.99276207166653, 99.99685886913774, 100.0]\n"
     ]
    }
   ],
   "source": [
    "print(len(new_var))\n",
    "print(new_var)\n",
    "true_arr = []\n",
    "false_arr = []\n",
    "for id in range(0, len(new_var)):\n",
    "    #print(pctage)\n",
    "    if(float(pctage) < new_var[id]):\n",
    "        true_arr.append(True)\n",
    "    else:\n",
    "        false_arr.append(False)\n",
    "#len(true_arr)"
   ]
  },
  {
   "cell_type": "code",
   "execution_count": 16,
   "metadata": {},
   "outputs": [],
   "source": [
    "num_vectors = len(true_arr)\n",
    "num_features = s.shape[1]\n",
    "proj_mat = eig_pairs[0][1].reshape(num_features,1)"
   ]
  },
  {
   "cell_type": "code",
   "execution_count": 17,
   "metadata": {},
   "outputs": [],
   "source": [
    "for idx in range(1, num_vectors):\n",
    "    proj_mat = np.hstack((proj_mat, eig_pairs[idx][1].reshape(num_features,1)))"
   ]
  },
  {
   "cell_type": "code",
   "execution_count": 18,
   "metadata": {},
   "outputs": [],
   "source": [
    "pca_mat = np.dot(s, proj_mat) \n",
    "#pca_mat.shape"
   ]
  },
  {
   "cell_type": "code",
   "execution_count": 19,
   "metadata": {},
   "outputs": [],
   "source": [
    "#col_names"
   ]
  },
  {
   "cell_type": "code",
   "execution_count": 20,
   "metadata": {},
   "outputs": [],
   "source": [
    "new_li = []\n",
    "for c in range(len(col_names)-3):\n",
    "    new_li.append(col_names[c])"
   ]
  },
  {
   "cell_type": "code",
   "execution_count": 21,
   "metadata": {},
   "outputs": [],
   "source": [
    "second_df = pd.DataFrame(pca_mat, columns=new_li)"
   ]
  },
  {
   "cell_type": "code",
   "execution_count": 22,
   "metadata": {},
   "outputs": [],
   "source": [
    "second_df['target'] = t.target"
   ]
  },
  {
   "cell_type": "code",
   "execution_count": 23,
   "metadata": {},
   "outputs": [],
   "source": [
    "#second_df"
   ]
  },
  {
   "cell_type": "code",
   "execution_count": 24,
   "metadata": {},
   "outputs": [
    {
     "name": "stdout",
     "output_type": "stream",
     "text": [
      "303\n"
     ]
    }
   ],
   "source": [
    "x = df.iloc[:, : -1]\n",
    "y = df['target']\n",
    "nl = []\n",
    "new_y = second_df['target']\n",
    "print(len(new_y))\n",
    "for mn in range(len(new_y)):\n",
    "    nl.append(new_y[mn])"
   ]
  },
  {
   "cell_type": "code",
   "execution_count": 25,
   "metadata": {},
   "outputs": [],
   "source": [
    "X_train, X_test, y_train, y_test = train_test_split(x,y,test_size=0.2)"
   ]
  },
  {
   "cell_type": "code",
   "execution_count": 26,
   "metadata": {},
   "outputs": [],
   "source": [
    "#X_test"
   ]
  },
  {
   "cell_type": "code",
   "execution_count": 27,
   "metadata": {},
   "outputs": [
    {
     "name": "stdout",
     "output_type": "stream",
     "text": [
      "Enter the value of K: 3\n",
      "Patient 1 doesnot have a heart disease!!\n",
      "Patient 2 doesnot have a heart disease!!\n",
      "Patient 3 doesnot have a heart disease!!\n"
     ]
    }
   ],
   "source": [
    "def euclideanDistance():\n",
    "    #distance = 0\n",
    "    #mli = []\n",
    "    x_df = second_df.iloc[:, : -1]\n",
    "    a_list = []\n",
    "    distance = []\n",
    "    for i,j in X_test.iterrows():\n",
    "        a_list.append([j['age'], j['sex'], j['cp'], j['trestbps'], j['chol'], j['fbs'], j['restecg'], j['thalach'], j['exang'], j['oldpeak'], j['slope']])\n",
    "    t = tuple(a_list)\n",
    "    #print(t)\n",
    "    mytup = ()\n",
    "    kn = len(t)\n",
    "    for j in range(kn):\n",
    "        tup = tuple(t[j])\n",
    "        for u,v in x_df.iterrows():\n",
    "            mytup = [v['age'], v['sex'], v['cp'], v['trestbps'], v['chol'], v['fbs'], v['restecg'], v['thalach'], v['exang'], v['oldpeak'], v['slope']]\n",
    "            for km in range(len(tup)):\n",
    "                #print(tup[km])\n",
    "                for ky in range(len(mytup)):\n",
    "                    cartesian_distance = 0\n",
    "                    for iy in range(len(nl)):\n",
    "                        d_i = np.sqrt((mytup[ky] - tup[km]) ** 2)\n",
    "                        cartesian_distance += d_i\n",
    "                        l = [cartesian_distance, tup, nl[iy]]\n",
    "                #rint(l)\n",
    "            distance.append(l)\n",
    "        return distance   \n",
    "            #print(distance)\n",
    "\n",
    "temp = '''\n",
    "    distance=[]\n",
    "    for j in range(kn):\n",
    "        test_tup = tuple(t[j])\n",
    "        #print(\"test_tup idx:\"+str(j)+str(test_tup))\n",
    "        for u,v in x_df.iterrows():\n",
    "            train_tup = [v['age'], v['sex'], v['cp'], v['trestbps'], v['chol'], v['fbs'], v['restecg'], v['thalach'], v['exang'], v['oldpeak'], v['slope']]\n",
    "            #print(\"train_tup idx:\"+str(u)+str(train_tup))\n",
    "            cartesian_distance = 0\n",
    "            min_dist = np.zeros((len(distance),1))\n",
    "            for km in range(len(test_tup)):\n",
    "                d_i = np.sqrt((train_tup[km] - test_tup[km]) ** 2)\n",
    "                cartesian_distance += d_i\n",
    "            l = np.array([cartesian_distance, u])\n",
    "            min_dist = np.vstack((min_dist, l))\n",
    "    return min_dist\n",
    "    '''\n",
    "            \n",
    "def k_nearest_neighbours(dataset, k):\n",
    "    #vote = [o[2] for o in sorted(dataset)[0:k]]\n",
    "    #print(dataset)\n",
    "    for im in range(k):\n",
    "        index = im + 1\n",
    "        patient = \"Patient \" + str(index)\n",
    "        if(dataset[2][2] == 'N'):\n",
    "            print(patient, \"doesnot have a heart disease!!\")\n",
    "        elif(dataset[2][2] == 'Y'):\n",
    "            print(patient, \"does have a heart disease!!\")\n",
    "        else:\n",
    "            print(\"no such label\")\n",
    "    #print(vote)\n",
    "    #vote_result = Counter(vote).most_common(1)[0][0]\n",
    "    #print(vote_result)\n",
    "    #print(vote)\n",
    "    \n",
    "\n",
    "op = euclideanDistance()\n",
    "k = int(input(\"Enter the value of K: \"))\n",
    "k_nearest_neighbours(op, k)\n",
    "    \n",
    "\n",
    "        \n",
    "        "
   ]
  },
  {
   "cell_type": "markdown",
   "metadata": {},
   "source": [
    "##### "
   ]
  },
  {
   "cell_type": "markdown",
   "metadata": {},
   "source": [
    "##### "
   ]
  },
  {
   "cell_type": "code",
   "execution_count": null,
   "metadata": {},
   "outputs": [],
   "source": []
  }
 ],
 "metadata": {
  "kernelspec": {
   "display_name": "Python 3",
   "language": "python",
   "name": "python3"
  },
  "language_info": {
   "codemirror_mode": {
    "name": "ipython",
    "version": 3
   },
   "file_extension": ".py",
   "mimetype": "text/x-python",
   "name": "python",
   "nbconvert_exporter": "python",
   "pygments_lexer": "ipython3",
   "version": "3.6.5"
  }
 },
 "nbformat": 4,
 "nbformat_minor": 2
}
